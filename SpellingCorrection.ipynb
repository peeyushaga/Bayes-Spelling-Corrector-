{
  "nbformat": 4,
  "nbformat_minor": 0,
  "metadata": {
    "colab": {
      "provenance": [],
      "authorship_tag": "ABX9TyPlu3ckRBIwe91Jv1kYb95/",
      "include_colab_link": true
    },
    "kernelspec": {
      "name": "python3",
      "display_name": "Python 3"
    },
    "language_info": {
      "name": "python"
    }
  },
  "cells": [
    {
      "cell_type": "markdown",
      "metadata": {
        "id": "view-in-github",
        "colab_type": "text"
      },
      "source": [
        "<a href=\"https://colab.research.google.com/github/peeyushaga/Bayes-Spelling-Corrector-/blob/main/SpellingCorrection.ipynb\" target=\"_parent\"><img src=\"https://colab.research.google.com/assets/colab-badge.svg\" alt=\"Open In Colab\"/></a>"
      ]
    },
    {
      "cell_type": "code",
      "execution_count": 1,
      "metadata": {
        "id": "midXj6NE0cXD"
      },
      "outputs": [],
      "source": [
        "import re\n",
        "from collections import Counter"
      ]
    },
    {
      "cell_type": "code",
      "source": [
        "def words(text):\n",
        "  return re.findall(r'\\w+',text.lower())"
      ],
      "metadata": {
        "id": "uvJz-nRq1tmI"
      },
      "execution_count": 2,
      "outputs": []
    },
    {
      "cell_type": "code",
      "source": [
        "WORDS = Counter(words(open('/content/big.txt').read()))"
      ],
      "metadata": {
        "id": "v-u0xhwU2N7q"
      },
      "execution_count": 3,
      "outputs": []
    },
    {
      "cell_type": "code",
      "source": [
        "def P(word):\n",
        "  # probablity of the word\n",
        "  N = sum(WORDS.values())\n",
        "  return WORDS[word]/N"
      ],
      "metadata": {
        "id": "ChBAVf123Zx_"
      },
      "execution_count": 12,
      "outputs": []
    },
    {
      "cell_type": "code",
      "source": [
        "def correction(word):\n",
        "  # most probable spelling for the word\n",
        "  return max(candidates(word), key=P)"
      ],
      "metadata": {
        "id": "F3vycHM83t4R"
      },
      "execution_count": 5,
      "outputs": []
    },
    {
      "cell_type": "code",
      "source": [
        "def candidates(word):\n",
        "  # generate possible spellings for the word\n",
        "  return (known([word]) or known(edits1(word)) or known(edits2(word))or [word])"
      ],
      "metadata": {
        "id": "UVDzNhvg4Dmd"
      },
      "execution_count": 6,
      "outputs": []
    },
    {
      "cell_type": "code",
      "source": [
        "def known(words):\n",
        "  # subset of all 'words' that appear in 'WORDS'\n",
        "  return set(w for w in words if w in WORDS)"
      ],
      "metadata": {
        "id": "GBSq5ykO4cuJ"
      },
      "execution_count": 8,
      "outputs": []
    },
    {
      "cell_type": "code",
      "source": [
        "def edits1(word):\n",
        "  # all possible words that are one edit away from the word\n",
        "  letters = 'abcdefghijklmnopqrstuvwxyz'\n",
        "  splits = [(word[:i],word[i:]) for i in range(len(word)+1)]\n",
        "  deletes =[ L + R[1:] for L,R in splits if R]\n",
        "  transposes = [L + R[1]+R[0]+R[2:] for L,R in splits if len(R)>1]\n",
        "  replaces = [L+C+R[1:] for L,R in splits for C in letters]\n",
        "  inserts = [L+C+R for L,R in splits for C in letters]\n",
        "\n",
        "  return set(deletes+transposes+replaces+inserts)"
      ],
      "metadata": {
        "id": "QfIoQTOp4vuZ"
      },
      "execution_count": 9,
      "outputs": []
    },
    {
      "cell_type": "code",
      "source": [
        "def edits2(word):\n",
        "  return set(e2 for e1 in edits1(word) for e2 in edits(e1))"
      ],
      "metadata": {
        "id": "vGjUCycq6Srx"
      },
      "execution_count": 10,
      "outputs": []
    },
    {
      "cell_type": "code",
      "source": [],
      "metadata": {
        "id": "3wDSMn4c6j9F"
      },
      "execution_count": null,
      "outputs": []
    }
  ]
}